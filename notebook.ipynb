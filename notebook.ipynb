{
 "cells": [
  {
   "cell_type": "code",
   "execution_count": 3,
   "metadata": {},
   "outputs": [],
   "source": [
    "!pip install pandas numpy requests faiss-cpu -q"
   ]
  },
  {
   "cell_type": "code",
   "execution_count": 6,
   "metadata": {},
   "outputs": [],
   "source": [
    "import faiss\n",
    "import requests\n",
    "import numpy as np\n",
    "import pandas as pd"
   ]
  },
  {
   "cell_type": "code",
   "execution_count": 9,
   "metadata": {},
   "outputs": [
    {
     "data": {
      "text/html": [
       "<pre style=\"white-space:pre;overflow-x:auto;line-height:normal;font-family:Menlo,'DejaVu Sans Mono',consolas,'Courier New',monospace\">Pandas: <span style=\"color: #008080; text-decoration-color: #008080; font-weight: bold\">2.2</span>.<span style=\"color: #008080; text-decoration-color: #008080; font-weight: bold\">2</span>\n",
       "Numpy: <span style=\"color: #008080; text-decoration-color: #008080; font-weight: bold\">1.26</span>.<span style=\"color: #008080; text-decoration-color: #008080; font-weight: bold\">3</span>\n",
       "Requests: <span style=\"color: #008080; text-decoration-color: #008080; font-weight: bold\">2.32</span>.<span style=\"color: #008080; text-decoration-color: #008080; font-weight: bold\">3</span>\n",
       "Faiss: <span style=\"color: #008080; text-decoration-color: #008080; font-weight: bold\">1.8</span>.<span style=\"color: #008080; text-decoration-color: #008080; font-weight: bold\">0</span>\n",
       "</pre>\n"
      ],
      "text/plain": [
       "Pandas: \u001b[1;36m2.2\u001b[0m.\u001b[1;36m2\u001b[0m\n",
       "Numpy: \u001b[1;36m1.26\u001b[0m.\u001b[1;36m3\u001b[0m\n",
       "Requests: \u001b[1;36m2.32\u001b[0m.\u001b[1;36m3\u001b[0m\n",
       "Faiss: \u001b[1;36m1.8\u001b[0m.\u001b[1;36m0\u001b[0m\n"
      ]
     },
     "metadata": {},
     "output_type": "display_data"
    }
   ],
   "source": [
    "print(f'Pandas: {pd.__version__}\\nNumpy: {np.__version__}\\nRequests: {requests.__version__}\\nFaiss: {faiss.__version__}')"
   ]
  },
  {
   "cell_type": "code",
   "execution_count": 4,
   "metadata": {},
   "outputs": [],
   "source": [
    "import pandas as pd\n",
    "\n",
    "df = pd.read_csv('books.csv')"
   ]
  },
  {
   "cell_type": "code",
   "execution_count": 10,
   "metadata": {},
   "outputs": [
    {
     "name": "stdout",
     "output_type": "stream",
     "text": [
      "<class 'pandas.core.frame.DataFrame'>\n",
      "RangeIndex: 6810 entries, 0 to 6809\n",
      "Data columns (total 12 columns):\n",
      " #   Column          Non-Null Count  Dtype  \n",
      "---  ------          --------------  -----  \n",
      " 0   isbn13          6810 non-null   int64  \n",
      " 1   isbn10          6810 non-null   object \n",
      " 2   title           6810 non-null   object \n",
      " 3   subtitle        2381 non-null   object \n",
      " 4   authors         6738 non-null   object \n",
      " 5   categories      6711 non-null   object \n",
      " 6   thumbnail       6481 non-null   object \n",
      " 7   description     6548 non-null   object \n",
      " 8   published_year  6804 non-null   float64\n",
      " 9   average_rating  6767 non-null   float64\n",
      " 10  num_pages       6767 non-null   float64\n",
      " 11  ratings_count   6767 non-null   float64\n",
      "dtypes: float64(4), int64(1), object(7)\n",
      "memory usage: 638.6+ KB\n"
     ]
    }
   ],
   "source": [
    "df.info()"
   ]
  },
  {
   "cell_type": "code",
   "execution_count": 8,
   "metadata": {},
   "outputs": [
    {
     "data": {
      "text/plain": [
       "'http://books.google.com/books/content?id=OmQawwEACAAJ&printsec=frontcover&img=1&zoom=1&source=gbs_api'"
      ]
     },
     "execution_count": 8,
     "metadata": {},
     "output_type": "execute_result"
    }
   ],
   "source": [
    "df.thumbnail[2]"
   ]
  },
  {
   "cell_type": "code",
   "execution_count": 5,
   "metadata": {},
   "outputs": [
    {
     "data": {
      "text/html": [
       "<div>\n",
       "<style scoped>\n",
       "    .dataframe tbody tr th:only-of-type {\n",
       "        vertical-align: middle;\n",
       "    }\n",
       "\n",
       "    .dataframe tbody tr th {\n",
       "        vertical-align: top;\n",
       "    }\n",
       "\n",
       "    .dataframe thead th {\n",
       "        text-align: right;\n",
       "    }\n",
       "</style>\n",
       "<table border=\"1\" class=\"dataframe\">\n",
       "  <thead>\n",
       "    <tr style=\"text-align: right;\">\n",
       "      <th></th>\n",
       "      <th>isbn13</th>\n",
       "      <th>isbn10</th>\n",
       "      <th>title</th>\n",
       "      <th>subtitle</th>\n",
       "      <th>authors</th>\n",
       "      <th>categories</th>\n",
       "      <th>thumbnail</th>\n",
       "      <th>description</th>\n",
       "      <th>published_year</th>\n",
       "      <th>average_rating</th>\n",
       "      <th>num_pages</th>\n",
       "      <th>ratings_count</th>\n",
       "    </tr>\n",
       "  </thead>\n",
       "  <tbody>\n",
       "    <tr>\n",
       "      <th>0</th>\n",
       "      <td>9780002005883</td>\n",
       "      <td>0002005883</td>\n",
       "      <td>Gilead</td>\n",
       "      <td>NaN</td>\n",
       "      <td>Marilynne Robinson</td>\n",
       "      <td>Fiction</td>\n",
       "      <td>http://books.google.com/books/content?id=KQZCP...</td>\n",
       "      <td>A NOVEL THAT READERS and critics have been eag...</td>\n",
       "      <td>2004.0</td>\n",
       "      <td>3.85</td>\n",
       "      <td>247.0</td>\n",
       "      <td>361.0</td>\n",
       "    </tr>\n",
       "    <tr>\n",
       "      <th>1</th>\n",
       "      <td>9780002261982</td>\n",
       "      <td>0002261987</td>\n",
       "      <td>Spider's Web</td>\n",
       "      <td>A Novel</td>\n",
       "      <td>Charles Osborne;Agatha Christie</td>\n",
       "      <td>Detective and mystery stories</td>\n",
       "      <td>http://books.google.com/books/content?id=gA5GP...</td>\n",
       "      <td>A new 'Christie for Christmas' -- a full-lengt...</td>\n",
       "      <td>2000.0</td>\n",
       "      <td>3.83</td>\n",
       "      <td>241.0</td>\n",
       "      <td>5164.0</td>\n",
       "    </tr>\n",
       "    <tr>\n",
       "      <th>2</th>\n",
       "      <td>9780006163831</td>\n",
       "      <td>0006163831</td>\n",
       "      <td>The One Tree</td>\n",
       "      <td>NaN</td>\n",
       "      <td>Stephen R. Donaldson</td>\n",
       "      <td>American fiction</td>\n",
       "      <td>http://books.google.com/books/content?id=OmQaw...</td>\n",
       "      <td>Volume Two of Stephen Donaldson's acclaimed se...</td>\n",
       "      <td>1982.0</td>\n",
       "      <td>3.97</td>\n",
       "      <td>479.0</td>\n",
       "      <td>172.0</td>\n",
       "    </tr>\n",
       "    <tr>\n",
       "      <th>3</th>\n",
       "      <td>9780006178736</td>\n",
       "      <td>0006178731</td>\n",
       "      <td>Rage of angels</td>\n",
       "      <td>NaN</td>\n",
       "      <td>Sidney Sheldon</td>\n",
       "      <td>Fiction</td>\n",
       "      <td>http://books.google.com/books/content?id=FKo2T...</td>\n",
       "      <td>A memorable, mesmerizing heroine Jennifer -- b...</td>\n",
       "      <td>1993.0</td>\n",
       "      <td>3.93</td>\n",
       "      <td>512.0</td>\n",
       "      <td>29532.0</td>\n",
       "    </tr>\n",
       "    <tr>\n",
       "      <th>4</th>\n",
       "      <td>9780006280897</td>\n",
       "      <td>0006280897</td>\n",
       "      <td>The Four Loves</td>\n",
       "      <td>NaN</td>\n",
       "      <td>Clive Staples Lewis</td>\n",
       "      <td>Christian life</td>\n",
       "      <td>http://books.google.com/books/content?id=XhQ5X...</td>\n",
       "      <td>Lewis' work on the nature of love divides love...</td>\n",
       "      <td>2002.0</td>\n",
       "      <td>4.15</td>\n",
       "      <td>170.0</td>\n",
       "      <td>33684.0</td>\n",
       "    </tr>\n",
       "  </tbody>\n",
       "</table>\n",
       "</div>"
      ],
      "text/plain": [
       "          isbn13      isbn10           title subtitle  \\\n",
       "0  9780002005883  0002005883          Gilead      NaN   \n",
       "1  9780002261982  0002261987    Spider's Web  A Novel   \n",
       "2  9780006163831  0006163831    The One Tree      NaN   \n",
       "3  9780006178736  0006178731  Rage of angels      NaN   \n",
       "4  9780006280897  0006280897  The Four Loves      NaN   \n",
       "\n",
       "                           authors                     categories  \\\n",
       "0               Marilynne Robinson                        Fiction   \n",
       "1  Charles Osborne;Agatha Christie  Detective and mystery stories   \n",
       "2             Stephen R. Donaldson               American fiction   \n",
       "3                   Sidney Sheldon                        Fiction   \n",
       "4              Clive Staples Lewis                 Christian life   \n",
       "\n",
       "                                           thumbnail  \\\n",
       "0  http://books.google.com/books/content?id=KQZCP...   \n",
       "1  http://books.google.com/books/content?id=gA5GP...   \n",
       "2  http://books.google.com/books/content?id=OmQaw...   \n",
       "3  http://books.google.com/books/content?id=FKo2T...   \n",
       "4  http://books.google.com/books/content?id=XhQ5X...   \n",
       "\n",
       "                                         description  published_year  \\\n",
       "0  A NOVEL THAT READERS and critics have been eag...          2004.0   \n",
       "1  A new 'Christie for Christmas' -- a full-lengt...          2000.0   \n",
       "2  Volume Two of Stephen Donaldson's acclaimed se...          1982.0   \n",
       "3  A memorable, mesmerizing heroine Jennifer -- b...          1993.0   \n",
       "4  Lewis' work on the nature of love divides love...          2002.0   \n",
       "\n",
       "   average_rating  num_pages  ratings_count  \n",
       "0            3.85      247.0          361.0  \n",
       "1            3.83      241.0         5164.0  \n",
       "2            3.97      479.0          172.0  \n",
       "3            3.93      512.0        29532.0  \n",
       "4            4.15      170.0        33684.0  "
      ]
     },
     "execution_count": 5,
     "metadata": {},
     "output_type": "execute_result"
    }
   ],
   "source": [
    "df.head()"
   ]
  },
  {
   "cell_type": "code",
   "execution_count": 11,
   "metadata": {},
   "outputs": [],
   "source": [
    "def text_rep(row):  #textual representatins of all required columns values in a row\n",
    "    text_rep = f'''Tile: {row['title']}\n",
    "Authors: {row['authors']}\n",
    "Description: {row['description']}\n",
    "Categories: {row['categories']}\n",
    "Publishing Year: {row['published_year']}\n",
    "Average Rating: {row['average_rating']}\n",
    "Number of Pages: {row['num_pages']}\n",
    "'''\n",
    "    return text_rep"
   ]
  },
  {
   "cell_type": "code",
   "execution_count": 17,
   "metadata": {},
   "outputs": [
    {
     "data": {
      "text/html": [
       "<pre style=\"white-space:pre;overflow-x:auto;line-height:normal;font-family:Menlo,'DejaVu Sans Mono',consolas,'Courier New',monospace\">Tile: Spider's Web\n",
       "Authors: Charles Osborne;Agatha Christie\n",
       "Description: A new <span style=\"color: #008000; text-decoration-color: #008000\">'Christie for Christmas'</span> -- a full-length novel adapted from her acclaimed play by Charles \n",
       "Osborne Following BLACK COFFEE and THE UNEXPECTED GUEST comes the final Agatha Christie play novelisation, bringing\n",
       "her superb storytelling to a new legion of fans. Clarissa, the wife of a Foreign Office diplomat, is given to \n",
       "daydreaming. <span style=\"color: #008000; text-decoration-color: #008000\">'Supposing I were to come down one morning and find a dead body in the library, what should I do?'</span> she\n",
       "muses. Clarissa has her chance to find out when she discovers a body in the drawing-room of her house in Kent. \n",
       "Desperate to dispose of the body before her husband comes home with an important foreign politician, Clarissa \n",
       "persuades her three house guests to become accessories and accomplices. It seems that the murdered man was not \n",
       "unknown to certain members of the house party <span style=\"font-weight: bold\">(</span>but which ones?<span style=\"font-weight: bold\">)</span>, and the search begins for the murderer and the \n",
       "motive, while at the same time trying to persuade a police inspector that there has been no murder at all<span style=\"color: #808000; text-decoration-color: #808000\">...</span> \n",
       "SPIDER'S WEB was written in <span style=\"color: #008080; text-decoration-color: #008080; font-weight: bold\">1954</span> specifically for Margaret Lockwood and opened first at the Theatre Royal \n",
       "Nottingham before moving to the Savoy Theatre in London on <span style=\"color: #008080; text-decoration-color: #008080; font-weight: bold\">14</span> December <span style=\"color: #008080; text-decoration-color: #008080; font-weight: bold\">1954</span>. With THE MOUSETRAP and WI\n",
       "Categories: Detective and mystery stories\n",
       "Publishing Year: <span style=\"color: #008080; text-decoration-color: #008080; font-weight: bold\">2000.0</span>\n",
       "Average Rating: <span style=\"color: #008080; text-decoration-color: #008080; font-weight: bold\">3.83</span>\n",
       "Number of Pages: <span style=\"color: #008080; text-decoration-color: #008080; font-weight: bold\">241.0</span>\n",
       "\n",
       "</pre>\n"
      ],
      "text/plain": [
       "Tile: Spider's Web\n",
       "Authors: Charles Osborne;Agatha Christie\n",
       "Description: A new \u001b[32m'Christie for Christmas'\u001b[0m -- a full-length novel adapted from her acclaimed play by Charles \n",
       "Osborne Following BLACK COFFEE and THE UNEXPECTED GUEST comes the final Agatha Christie play novelisation, bringing\n",
       "her superb storytelling to a new legion of fans. Clarissa, the wife of a Foreign Office diplomat, is given to \n",
       "daydreaming. \u001b[32m'Supposing I were to come down one morning and find a dead body in the library, what should I do?'\u001b[0m she\n",
       "muses. Clarissa has her chance to find out when she discovers a body in the drawing-room of her house in Kent. \n",
       "Desperate to dispose of the body before her husband comes home with an important foreign politician, Clarissa \n",
       "persuades her three house guests to become accessories and accomplices. It seems that the murdered man was not \n",
       "unknown to certain members of the house party \u001b[1m(\u001b[0mbut which ones?\u001b[1m)\u001b[0m, and the search begins for the murderer and the \n",
       "motive, while at the same time trying to persuade a police inspector that there has been no murder at all\u001b[33m...\u001b[0m \n",
       "SPIDER'S WEB was written in \u001b[1;36m1954\u001b[0m specifically for Margaret Lockwood and opened first at the Theatre Royal \n",
       "Nottingham before moving to the Savoy Theatre in London on \u001b[1;36m14\u001b[0m December \u001b[1;36m1954\u001b[0m. With THE MOUSETRAP and WI\n",
       "Categories: Detective and mystery stories\n",
       "Publishing Year: \u001b[1;36m2000.0\u001b[0m\n",
       "Average Rating: \u001b[1;36m3.83\u001b[0m\n",
       "Number of Pages: \u001b[1;36m241.0\u001b[0m\n",
       "\n"
      ]
     },
     "metadata": {},
     "output_type": "display_data"
    }
   ],
   "source": [
    "from rich import print\n",
    "print(df.iloc[:3].apply(text_rep, axis=1).values[1])"
   ]
  },
  {
   "cell_type": "code",
   "execution_count": 18,
   "metadata": {},
   "outputs": [],
   "source": [
    "## Apply above function on whole dataset\n",
    "df['textual_representation'] = df.apply(text_rep, axis=1)"
   ]
  },
  {
   "cell_type": "code",
   "execution_count": 19,
   "metadata": {},
   "outputs": [
    {
     "data": {
      "text/plain": [
       "0    Tile: Gilead\\nAuthors: Marilynne Robinson\\nDes...\n",
       "1    Tile: Spider's Web\\nAuthors: Charles Osborne;A...\n",
       "2    Tile: The One Tree\\nAuthors: Stephen R. Donald...\n",
       "3    Tile: Rage of angels\\nAuthors: Sidney Sheldon\\...\n",
       "4    Tile: The Four Loves\\nAuthors: Clive Staples L...\n",
       "Name: textual_representation, dtype: object"
      ]
     },
     "execution_count": 19,
     "metadata": {},
     "output_type": "execute_result"
    }
   ],
   "source": [
    "df['textual_representation'].head()"
   ]
  },
  {
   "cell_type": "code",
   "execution_count": 23,
   "metadata": {},
   "outputs": [
    {
     "name": "stdout",
     "output_type": "stream",
     "text": [
      "NAME                                 \tID          \tSIZE  \tMODIFIED      \n",
      "mxbai-embed-large:latest             \t468836162de7\t669 MB\t5 minutes ago\t\n",
      "llava:13b                            \t0d0eb4d7f485\t8.0 GB\t13 days ago  \t\n",
      "bge-m3:latest                        \t790764642607\t1.2 GB\t2 weeks ago  \t\n",
      "qwen2:7b-instruct-fp16               \t99954bc7f7d6\t15 GB \t3 weeks ago  \t\n",
      "qwen2:7b-instruct-q8_0               \t2f9a76350a1f\t8.1 GB\t3 weeks ago  \t\n",
      "qwen2:7b-instruct-q6_K               \tfb2f17833020\t6.3 GB\t3 weeks ago  \t\n",
      "qwen2:latest                         \te0d4e1163c58\t4.4 GB\t3 weeks ago  \t\n",
      "mistral-large:123b-instruct-2407-q6_K\t5e4615a812a8\t100 GB\t3 weeks ago  \t\n",
      "mistral-large:latest                 \t0ca7dfa0bf06\t69 GB \t3 weeks ago  \t\n",
      "gemma2:latest                        \tff02c3702f32\t5.4 GB\t3 weeks ago  \t\n",
      "gemma2:2b                            \t8ccf136fdd52\t1.6 GB\t3 weeks ago  \t\n",
      "llama3:latest                        \t365c0bd3c000\t4.7 GB\t3 weeks ago  \t\n",
      "mistral-nemo:latest                  \t994f3b8b7801\t7.1 GB\t4 weeks ago  \t\n",
      "llama3.1:70b-instruct-q4_0           \tf9f6c437c417\t39 GB \t4 weeks ago  \t\n",
      "llama3.1:latest                      \t91ab477bec9d\t4.7 GB\t4 weeks ago  \t\n"
     ]
    }
   ],
   "source": [
    "!ollama list"
   ]
  },
  {
   "cell_type": "code",
   "execution_count": 25,
   "metadata": {},
   "outputs": [],
   "source": [
    "import faiss\n",
    "import requests\n",
    "import numpy as np\n",
    "from tqdm import tqdm\n",
    "\n",
    "dim = 1024\n",
    "\n",
    "index = faiss.IndexFlatL2(dim)\n",
    "\n",
    "X = np.zeros((len(df['textual_representation']), dim), dtype='float32')"
   ]
  },
  {
   "cell_type": "code",
   "execution_count": 26,
   "metadata": {},
   "outputs": [
    {
     "name": "stderr",
     "output_type": "stream",
     "text": [
      "100%|██████████| 6810/6810 [11:50<00:00,  9.59it/s]\n"
     ]
    }
   ],
   "source": [
    "for i, representation in tqdm(enumerate(df['textual_representation']), total=len(df['textual_representation'])):\n",
    "    res = requests.post('http://localhost:11434/api/embeddings',\n",
    "                        json={\n",
    "                            'model': 'mxbai-embed-large:latest',\n",
    "                            'prompt': representation\n",
    "                        })\n",
    "    embedding = res.json()['embedding']\n",
    "\n",
    "    X[i] = np.array(embedding)\n",
    "\n",
    "index.add(X)"
   ]
  },
  {
   "cell_type": "code",
   "execution_count": 27,
   "metadata": {},
   "outputs": [],
   "source": [
    "faiss.write_index(index, 'index')"
   ]
  },
  {
   "cell_type": "code",
   "execution_count": 28,
   "metadata": {},
   "outputs": [],
   "source": [
    "index = faiss.read_index('index')"
   ]
  },
  {
   "cell_type": "code",
   "execution_count": 30,
   "metadata": {},
   "outputs": [
    {
     "data": {
      "text/html": [
       "<div>\n",
       "<style scoped>\n",
       "    .dataframe tbody tr th:only-of-type {\n",
       "        vertical-align: middle;\n",
       "    }\n",
       "\n",
       "    .dataframe tbody tr th {\n",
       "        vertical-align: top;\n",
       "    }\n",
       "\n",
       "    .dataframe thead th {\n",
       "        text-align: right;\n",
       "    }\n",
       "</style>\n",
       "<table border=\"1\" class=\"dataframe\">\n",
       "  <thead>\n",
       "    <tr style=\"text-align: right;\">\n",
       "      <th></th>\n",
       "      <th>isbn13</th>\n",
       "      <th>isbn10</th>\n",
       "      <th>title</th>\n",
       "      <th>subtitle</th>\n",
       "      <th>authors</th>\n",
       "      <th>categories</th>\n",
       "      <th>thumbnail</th>\n",
       "      <th>description</th>\n",
       "      <th>published_year</th>\n",
       "      <th>average_rating</th>\n",
       "      <th>num_pages</th>\n",
       "      <th>ratings_count</th>\n",
       "      <th>textual_representation</th>\n",
       "    </tr>\n",
       "  </thead>\n",
       "  <tbody>\n",
       "    <tr>\n",
       "      <th>502</th>\n",
       "      <td>9780064420808</td>\n",
       "      <td>0064420809</td>\n",
       "      <td>Little House Friends</td>\n",
       "      <td>NaN</td>\n",
       "      <td>Heather Henson;Laura Ingalls Wilder</td>\n",
       "      <td>Juvenile Fiction</td>\n",
       "      <td>http://books.google.com/books/content?id=gMZbA...</td>\n",
       "      <td>Laura Ingalls shares adventures and good times...</td>\n",
       "      <td>1998.0</td>\n",
       "      <td>3.99</td>\n",
       "      <td>80.0</td>\n",
       "      <td>70.0</td>\n",
       "      <td>Tile: Little House Friends\\nAuthors: Heather H...</td>\n",
       "    </tr>\n",
       "    <tr>\n",
       "      <th>612</th>\n",
       "      <td>9780099498599</td>\n",
       "      <td>0099498596</td>\n",
       "      <td>Circle of Friends</td>\n",
       "      <td>NaN</td>\n",
       "      <td>Maeve Binchy</td>\n",
       "      <td>College attendance</td>\n",
       "      <td>http://books.google.com/books/content?id=P4-i_...</td>\n",
       "      <td>It began with Benny Hogan and Eve Malone, grow...</td>\n",
       "      <td>2006.0</td>\n",
       "      <td>4.02</td>\n",
       "      <td>722.0</td>\n",
       "      <td>50668.0</td>\n",
       "      <td>Tile: Circle of Friends\\nAuthors: Maeve Binchy...</td>\n",
       "    </tr>\n",
       "    <tr>\n",
       "      <th>986</th>\n",
       "      <td>9780142300848</td>\n",
       "      <td>0142300845</td>\n",
       "      <td>Oliver and Albert, Friends Forever</td>\n",
       "      <td>NaN</td>\n",
       "      <td>Jean Van Leeuwen</td>\n",
       "      <td>Juvenile Fiction</td>\n",
       "      <td>http://books.google.com/books/content?id=-EBFs...</td>\n",
       "      <td>Oliver makes friends with Albert, the new boy ...</td>\n",
       "      <td>2002.0</td>\n",
       "      <td>3.62</td>\n",
       "      <td>48.0</td>\n",
       "      <td>22.0</td>\n",
       "      <td>Tile: Oliver and Albert, Friends Forever\\nAuth...</td>\n",
       "    </tr>\n",
       "    <tr>\n",
       "      <th>1776</th>\n",
       "      <td>9780345323903</td>\n",
       "      <td>0345323904</td>\n",
       "      <td>With Friends Like These</td>\n",
       "      <td>NaN</td>\n",
       "      <td>Alan Dean Foster</td>\n",
       "      <td>Fiction</td>\n",
       "      <td>http://books.google.com/books/content?id=IKUcA...</td>\n",
       "      <td>Willie Whitehorse could have been just another...</td>\n",
       "      <td>1984.0</td>\n",
       "      <td>3.94</td>\n",
       "      <td>236.0</td>\n",
       "      <td>2233.0</td>\n",
       "      <td>Tile: With Friends Like These\\nAuthors: Alan D...</td>\n",
       "    </tr>\n",
       "    <tr>\n",
       "      <th>2490</th>\n",
       "      <td>9780394895833</td>\n",
       "      <td>0394895835</td>\n",
       "      <td>Baby's Animal Friends</td>\n",
       "      <td>NaN</td>\n",
       "      <td>Phoebe Dunn</td>\n",
       "      <td>Juvenile Fiction</td>\n",
       "      <td>http://books.google.com/books/content?id=ytIAZ...</td>\n",
       "      <td>Photographs capture the special relationship b...</td>\n",
       "      <td>1988.0</td>\n",
       "      <td>3.40</td>\n",
       "      <td>28.0</td>\n",
       "      <td>15.0</td>\n",
       "      <td>Tile: Baby's Animal Friends\\nAuthors: Phoebe D...</td>\n",
       "    </tr>\n",
       "    <tr>\n",
       "      <th>4373</th>\n",
       "      <td>9780743272773</td>\n",
       "      <td>0743272773</td>\n",
       "      <td>How to Win Friends and Influence People for Te...</td>\n",
       "      <td>NaN</td>\n",
       "      <td>Donna Dale Carnegie</td>\n",
       "      <td>Self-Help</td>\n",
       "      <td>http://books.google.com/books/content?id=eIc2l...</td>\n",
       "      <td>Donna Dale Carnegie, daughter of the late moti...</td>\n",
       "      <td>2005.0</td>\n",
       "      <td>3.90</td>\n",
       "      <td>208.0</td>\n",
       "      <td>426.0</td>\n",
       "      <td>Tile: How to Win Friends and Influence People ...</td>\n",
       "    </tr>\n",
       "    <tr>\n",
       "      <th>4533</th>\n",
       "      <td>9780749307844</td>\n",
       "      <td>0749307846</td>\n",
       "      <td>How to Win Friends and Influence People</td>\n",
       "      <td>NaN</td>\n",
       "      <td>Dale Carnegie</td>\n",
       "      <td>Conduct of life</td>\n",
       "      <td>http://books.google.com/books/content?id=aO7CQ...</td>\n",
       "      <td>Dale Carnegie aims to show how to makes friend...</td>\n",
       "      <td>1990.0</td>\n",
       "      <td>4.18</td>\n",
       "      <td>256.0</td>\n",
       "      <td>199.0</td>\n",
       "      <td>Tile: How to Win Friends and Influence People\\...</td>\n",
       "    </tr>\n",
       "    <tr>\n",
       "      <th>5115</th>\n",
       "      <td>9780810958623</td>\n",
       "      <td>0810958627</td>\n",
       "      <td>Ruby Gloom's Guide to Friendship</td>\n",
       "      <td>NaN</td>\n",
       "      <td>Mighty Fine Inc.</td>\n",
       "      <td>Juvenile Nonfiction</td>\n",
       "      <td>http://books.google.com/books/content?id=FYrcu...</td>\n",
       "      <td>If Ruby Gloom's friends seem somewhat unusual,...</td>\n",
       "      <td>2005.0</td>\n",
       "      <td>4.34</td>\n",
       "      <td>72.0</td>\n",
       "      <td>37.0</td>\n",
       "      <td>Tile: Ruby Gloom's Guide to Friendship\\nAuthor...</td>\n",
       "    </tr>\n",
       "  </tbody>\n",
       "</table>\n",
       "</div>"
      ],
      "text/plain": [
       "             isbn13      isbn10  \\\n",
       "502   9780064420808  0064420809   \n",
       "612   9780099498599  0099498596   \n",
       "986   9780142300848  0142300845   \n",
       "1776  9780345323903  0345323904   \n",
       "2490  9780394895833  0394895835   \n",
       "4373  9780743272773  0743272773   \n",
       "4533  9780749307844  0749307846   \n",
       "5115  9780810958623  0810958627   \n",
       "\n",
       "                                                  title subtitle  \\\n",
       "502                                Little House Friends      NaN   \n",
       "612                                   Circle of Friends      NaN   \n",
       "986                  Oliver and Albert, Friends Forever      NaN   \n",
       "1776                            With Friends Like These      NaN   \n",
       "2490                              Baby's Animal Friends      NaN   \n",
       "4373  How to Win Friends and Influence People for Te...      NaN   \n",
       "4533            How to Win Friends and Influence People      NaN   \n",
       "5115                   Ruby Gloom's Guide to Friendship      NaN   \n",
       "\n",
       "                                  authors           categories  \\\n",
       "502   Heather Henson;Laura Ingalls Wilder     Juvenile Fiction   \n",
       "612                          Maeve Binchy   College attendance   \n",
       "986                      Jean Van Leeuwen     Juvenile Fiction   \n",
       "1776                     Alan Dean Foster              Fiction   \n",
       "2490                          Phoebe Dunn     Juvenile Fiction   \n",
       "4373                  Donna Dale Carnegie            Self-Help   \n",
       "4533                        Dale Carnegie      Conduct of life   \n",
       "5115                     Mighty Fine Inc.  Juvenile Nonfiction   \n",
       "\n",
       "                                              thumbnail  \\\n",
       "502   http://books.google.com/books/content?id=gMZbA...   \n",
       "612   http://books.google.com/books/content?id=P4-i_...   \n",
       "986   http://books.google.com/books/content?id=-EBFs...   \n",
       "1776  http://books.google.com/books/content?id=IKUcA...   \n",
       "2490  http://books.google.com/books/content?id=ytIAZ...   \n",
       "4373  http://books.google.com/books/content?id=eIc2l...   \n",
       "4533  http://books.google.com/books/content?id=aO7CQ...   \n",
       "5115  http://books.google.com/books/content?id=FYrcu...   \n",
       "\n",
       "                                            description  published_year  \\\n",
       "502   Laura Ingalls shares adventures and good times...          1998.0   \n",
       "612   It began with Benny Hogan and Eve Malone, grow...          2006.0   \n",
       "986   Oliver makes friends with Albert, the new boy ...          2002.0   \n",
       "1776  Willie Whitehorse could have been just another...          1984.0   \n",
       "2490  Photographs capture the special relationship b...          1988.0   \n",
       "4373  Donna Dale Carnegie, daughter of the late moti...          2005.0   \n",
       "4533  Dale Carnegie aims to show how to makes friend...          1990.0   \n",
       "5115  If Ruby Gloom's friends seem somewhat unusual,...          2005.0   \n",
       "\n",
       "      average_rating  num_pages  ratings_count  \\\n",
       "502             3.99       80.0           70.0   \n",
       "612             4.02      722.0        50668.0   \n",
       "986             3.62       48.0           22.0   \n",
       "1776            3.94      236.0         2233.0   \n",
       "2490            3.40       28.0           15.0   \n",
       "4373            3.90      208.0          426.0   \n",
       "4533            4.18      256.0          199.0   \n",
       "5115            4.34       72.0           37.0   \n",
       "\n",
       "                                 textual_representation  \n",
       "502   Tile: Little House Friends\\nAuthors: Heather H...  \n",
       "612   Tile: Circle of Friends\\nAuthors: Maeve Binchy...  \n",
       "986   Tile: Oliver and Albert, Friends Forever\\nAuth...  \n",
       "1776  Tile: With Friends Like These\\nAuthors: Alan D...  \n",
       "2490  Tile: Baby's Animal Friends\\nAuthors: Phoebe D...  \n",
       "4373  Tile: How to Win Friends and Influence People ...  \n",
       "4533  Tile: How to Win Friends and Influence People\\...  \n",
       "5115  Tile: Ruby Gloom's Guide to Friendship\\nAuthor...  "
      ]
     },
     "execution_count": 30,
     "metadata": {},
     "output_type": "execute_result"
    }
   ],
   "source": [
    "df[df.title.str.contains('Friends')]"
   ]
  },
  {
   "cell_type": "code",
   "execution_count": 31,
   "metadata": {},
   "outputs": [],
   "source": [
    "# fav book\n",
    "favorite_book = df.iloc[1357]"
   ]
  },
  {
   "cell_type": "code",
   "execution_count": 34,
   "metadata": {},
   "outputs": [
    {
     "data": {
      "text/html": [
       "<pre style=\"white-space:pre;overflow-x:auto;line-height:normal;font-family:Menlo,'DejaVu Sans Mono',consolas,'Courier New',monospace\">Tile: Elbow Room\n",
       "Authors: Daniel Clement Dennett\n",
       "Description: Essays discuss reason, self-control, self-definition, time, cause and effect, accidents, and \n",
       "responsibility, and explain why people want free will\n",
       "Categories: Philosophy\n",
       "Publishing Year: <span style=\"color: #008080; text-decoration-color: #008080; font-weight: bold\">1984.0</span>\n",
       "Average Rating: <span style=\"color: #008080; text-decoration-color: #008080; font-weight: bold\">3.92</span>\n",
       "Number of Pages: <span style=\"color: #008080; text-decoration-color: #008080; font-weight: bold\">200.0</span>\n",
       "\n",
       "</pre>\n"
      ],
      "text/plain": [
       "Tile: Elbow Room\n",
       "Authors: Daniel Clement Dennett\n",
       "Description: Essays discuss reason, self-control, self-definition, time, cause and effect, accidents, and \n",
       "responsibility, and explain why people want free will\n",
       "Categories: Philosophy\n",
       "Publishing Year: \u001b[1;36m1984.0\u001b[0m\n",
       "Average Rating: \u001b[1;36m3.92\u001b[0m\n",
       "Number of Pages: \u001b[1;36m200.0\u001b[0m\n",
       "\n"
      ]
     },
     "metadata": {},
     "output_type": "display_data"
    }
   ],
   "source": [
    "print(favorite_book.textual_representation)  "
   ]
  },
  {
   "cell_type": "code",
   "execution_count": 35,
   "metadata": {},
   "outputs": [],
   "source": [
    "res = requests.post('http://localhost:11434/api/embeddings',\n",
    "                        json={\n",
    "                            'model': 'mxbai-embed-large:latest',\n",
    "                            'prompt': favorite_book['textual_representation']\n",
    "                        })"
   ]
  },
  {
   "cell_type": "code",
   "execution_count": 36,
   "metadata": {},
   "outputs": [],
   "source": [
    "embedding = np.array([res.json()['embedding']], dtype='float32')"
   ]
  },
  {
   "cell_type": "code",
   "execution_count": 38,
   "metadata": {},
   "outputs": [],
   "source": [
    "D, I = index.search(embedding, 7)"
   ]
  },
  {
   "cell_type": "code",
   "execution_count": 39,
   "metadata": {},
   "outputs": [],
   "source": [
    "best_matches = np.array(df['textual_representation'])[I.flatten()]"
   ]
  },
  {
   "cell_type": "code",
   "execution_count": 41,
   "metadata": {},
   "outputs": [
    {
     "data": {
      "text/html": [
       "<pre style=\"white-space:pre;overflow-x:auto;line-height:normal;font-family:Menlo,'DejaVu Sans Mono',consolas,'Courier New',monospace\">Tile: Elbow Room\n",
       "Authors: Daniel Clement Dennett\n",
       "Description: Essays discuss reason, self-control, self-definition, time, cause and effect, accidents, and \n",
       "responsibility, and explain why people want free will\n",
       "Categories: Philosophy\n",
       "Publishing Year: <span style=\"color: #008080; text-decoration-color: #008080; font-weight: bold\">1984.0</span>\n",
       "Average Rating: <span style=\"color: #008080; text-decoration-color: #008080; font-weight: bold\">3.92</span>\n",
       "Number of Pages: <span style=\"color: #008080; text-decoration-color: #008080; font-weight: bold\">200.0</span>\n",
       "\n",
       "</pre>\n"
      ],
      "text/plain": [
       "Tile: Elbow Room\n",
       "Authors: Daniel Clement Dennett\n",
       "Description: Essays discuss reason, self-control, self-definition, time, cause and effect, accidents, and \n",
       "responsibility, and explain why people want free will\n",
       "Categories: Philosophy\n",
       "Publishing Year: \u001b[1;36m1984.0\u001b[0m\n",
       "Average Rating: \u001b[1;36m3.92\u001b[0m\n",
       "Number of Pages: \u001b[1;36m200.0\u001b[0m\n",
       "\n"
      ]
     },
     "metadata": {},
     "output_type": "display_data"
    },
    {
     "data": {
      "text/html": [
       "<pre style=\"white-space:pre;overflow-x:auto;line-height:normal;font-family:Menlo,'DejaVu Sans Mono',consolas,'Courier New',monospace\">\n",
       "</pre>\n"
      ],
      "text/plain": [
       "\n"
      ]
     },
     "metadata": {},
     "output_type": "display_data"
    },
    {
     "data": {
      "text/html": [
       "<pre style=\"white-space:pre;overflow-x:auto;line-height:normal;font-family:Menlo,'DejaVu Sans Mono',consolas,'Courier New',monospace\">Tile: Huxley and God\n",
       "Authors: Aldous Huxley\n",
       "Description: This volume of essays, written with the authors trademark elegance and wit, tackles subjects such as \n",
       "Action and Contemplation, Religion and Time, Reflections on the Lord's Prayer, and Notes on Zen.\n",
       "Categories: Religion\n",
       "Publishing Year: <span style=\"color: #008080; text-decoration-color: #008080; font-weight: bold\">2003.0</span>\n",
       "Average Rating: <span style=\"color: #008080; text-decoration-color: #008080; font-weight: bold\">4.31</span>\n",
       "Number of Pages: <span style=\"color: #008080; text-decoration-color: #008080; font-weight: bold\">320.0</span>\n",
       "\n",
       "</pre>\n"
      ],
      "text/plain": [
       "Tile: Huxley and God\n",
       "Authors: Aldous Huxley\n",
       "Description: This volume of essays, written with the authors trademark elegance and wit, tackles subjects such as \n",
       "Action and Contemplation, Religion and Time, Reflections on the Lord's Prayer, and Notes on Zen.\n",
       "Categories: Religion\n",
       "Publishing Year: \u001b[1;36m2003.0\u001b[0m\n",
       "Average Rating: \u001b[1;36m4.31\u001b[0m\n",
       "Number of Pages: \u001b[1;36m320.0\u001b[0m\n",
       "\n"
      ]
     },
     "metadata": {},
     "output_type": "display_data"
    },
    {
     "data": {
      "text/html": [
       "<pre style=\"white-space:pre;overflow-x:auto;line-height:normal;font-family:Menlo,'DejaVu Sans Mono',consolas,'Courier New',monospace\">\n",
       "</pre>\n"
      ],
      "text/plain": [
       "\n"
      ]
     },
     "metadata": {},
     "output_type": "display_data"
    },
    {
     "data": {
      "text/html": [
       "<pre style=\"white-space:pre;overflow-x:auto;line-height:normal;font-family:Menlo,'DejaVu Sans Mono',consolas,'Courier New',monospace\">Tile: The Mind's I\n",
       "Authors: Douglas R. Hofstadter;Daniel Clement Dennett\n",
       "Description: Brilliant, shattering, mind-jolting, <span style=\"color: #008000; text-decoration-color: #008000\">\"The Mind's I\"</span> is a searching, probing nook--a cosmic journey of \n",
       "the mind--that goes deeply into the problem of self and self-consciousness as anything written in our time. From \n",
       "verbalizing chimpanzees to scientific speculations involving machines with souls, from the mesmerizing, maze-like \n",
       "fiction of Borges to the tantalizing, dreamlike fiction of Lem and Princess Ineffable, her circuits glowing read \n",
       "and gold, <span style=\"color: #008000; text-decoration-color: #008000\">\"The Mind's I \"</span> opens the mind to the Black Box of fantasy, to the windfalls of reflection, to new \n",
       "dimensions of exciting possibilities.\n",
       "Categories: Philosophy\n",
       "Publishing Year: <span style=\"color: #008080; text-decoration-color: #008080; font-weight: bold\">1982.0</span>\n",
       "Average Rating: <span style=\"color: #008080; text-decoration-color: #008080; font-weight: bold\">4.14</span>\n",
       "Number of Pages: <span style=\"color: #008080; text-decoration-color: #008080; font-weight: bold\">512.0</span>\n",
       "\n",
       "</pre>\n"
      ],
      "text/plain": [
       "Tile: The Mind's I\n",
       "Authors: Douglas R. Hofstadter;Daniel Clement Dennett\n",
       "Description: Brilliant, shattering, mind-jolting, \u001b[32m\"The Mind's I\"\u001b[0m is a searching, probing nook--a cosmic journey of \n",
       "the mind--that goes deeply into the problem of self and self-consciousness as anything written in our time. From \n",
       "verbalizing chimpanzees to scientific speculations involving machines with souls, from the mesmerizing, maze-like \n",
       "fiction of Borges to the tantalizing, dreamlike fiction of Lem and Princess Ineffable, her circuits glowing read \n",
       "and gold, \u001b[32m\"The Mind's I \"\u001b[0m opens the mind to the Black Box of fantasy, to the windfalls of reflection, to new \n",
       "dimensions of exciting possibilities.\n",
       "Categories: Philosophy\n",
       "Publishing Year: \u001b[1;36m1982.0\u001b[0m\n",
       "Average Rating: \u001b[1;36m4.14\u001b[0m\n",
       "Number of Pages: \u001b[1;36m512.0\u001b[0m\n",
       "\n"
      ]
     },
     "metadata": {},
     "output_type": "display_data"
    },
    {
     "data": {
      "text/html": [
       "<pre style=\"white-space:pre;overflow-x:auto;line-height:normal;font-family:Menlo,'DejaVu Sans Mono',consolas,'Courier New',monospace\">\n",
       "</pre>\n"
      ],
      "text/plain": [
       "\n"
      ]
     },
     "metadata": {},
     "output_type": "display_data"
    },
    {
     "data": {
      "text/html": [
       "<pre style=\"white-space:pre;overflow-x:auto;line-height:normal;font-family:Menlo,'DejaVu Sans Mono',consolas,'Courier New',monospace\">Tile: Philosophical Papers: Volume <span style=\"color: #008080; text-decoration-color: #008080; font-weight: bold\">1</span>, Human Agency and Language\n",
       "Authors: Charles Taylor\n",
       "Description: Philosophical Papers will interest a very wide range of philosophers and students of the human \n",
       "sciences.\n",
       "Categories: Philosophy\n",
       "Publishing Year: <span style=\"color: #008080; text-decoration-color: #008080; font-weight: bold\">1985.0</span>\n",
       "Average Rating: <span style=\"color: #008080; text-decoration-color: #008080; font-weight: bold\">4.31</span>\n",
       "Number of Pages: <span style=\"color: #008080; text-decoration-color: #008080; font-weight: bold\">304.0</span>\n",
       "\n",
       "</pre>\n"
      ],
      "text/plain": [
       "Tile: Philosophical Papers: Volume \u001b[1;36m1\u001b[0m, Human Agency and Language\n",
       "Authors: Charles Taylor\n",
       "Description: Philosophical Papers will interest a very wide range of philosophers and students of the human \n",
       "sciences.\n",
       "Categories: Philosophy\n",
       "Publishing Year: \u001b[1;36m1985.0\u001b[0m\n",
       "Average Rating: \u001b[1;36m4.31\u001b[0m\n",
       "Number of Pages: \u001b[1;36m304.0\u001b[0m\n",
       "\n"
      ]
     },
     "metadata": {},
     "output_type": "display_data"
    },
    {
     "data": {
      "text/html": [
       "<pre style=\"white-space:pre;overflow-x:auto;line-height:normal;font-family:Menlo,'DejaVu Sans Mono',consolas,'Courier New',monospace\">\n",
       "</pre>\n"
      ],
      "text/plain": [
       "\n"
      ]
     },
     "metadata": {},
     "output_type": "display_data"
    },
    {
     "data": {
      "text/html": [
       "<pre style=\"white-space:pre;overflow-x:auto;line-height:normal;font-family:Menlo,'DejaVu Sans Mono',consolas,'Courier New',monospace\">Tile: Beyond the Postmodern Mind\n",
       "Authors: Huston Smith\n",
       "Description: This new edition of critically acclaimed essays explores possible breakthroughs in the direction of \n",
       "reaching a liberated and enlightened consciousness. With a new preface and new final chapter. An invaluable \n",
       "collection of essays by the foremost religious writer in America today.\n",
       "Categories: Philosophy\n",
       "Publishing Year: <span style=\"color: #008080; text-decoration-color: #008080; font-weight: bold\">2003.0</span>\n",
       "Average Rating: <span style=\"color: #008080; text-decoration-color: #008080; font-weight: bold\">4.21</span>\n",
       "Number of Pages: <span style=\"color: #008080; text-decoration-color: #008080; font-weight: bold\">295.0</span>\n",
       "\n",
       "</pre>\n"
      ],
      "text/plain": [
       "Tile: Beyond the Postmodern Mind\n",
       "Authors: Huston Smith\n",
       "Description: This new edition of critically acclaimed essays explores possible breakthroughs in the direction of \n",
       "reaching a liberated and enlightened consciousness. With a new preface and new final chapter. An invaluable \n",
       "collection of essays by the foremost religious writer in America today.\n",
       "Categories: Philosophy\n",
       "Publishing Year: \u001b[1;36m2003.0\u001b[0m\n",
       "Average Rating: \u001b[1;36m4.21\u001b[0m\n",
       "Number of Pages: \u001b[1;36m295.0\u001b[0m\n",
       "\n"
      ]
     },
     "metadata": {},
     "output_type": "display_data"
    },
    {
     "data": {
      "text/html": [
       "<pre style=\"white-space:pre;overflow-x:auto;line-height:normal;font-family:Menlo,'DejaVu Sans Mono',consolas,'Courier New',monospace\">\n",
       "</pre>\n"
      ],
      "text/plain": [
       "\n"
      ]
     },
     "metadata": {},
     "output_type": "display_data"
    },
    {
     "data": {
      "text/html": [
       "<pre style=\"white-space:pre;overflow-x:auto;line-height:normal;font-family:Menlo,'DejaVu Sans Mono',consolas,'Courier New',monospace\">Tile: For the Sake of Argument\n",
       "Authors: Christopher Hitchens\n",
       "Description: Essays discuss international politics, modern conservatism, politicians, and literature\n",
       "Categories: Literary Collections\n",
       "Publishing Year: <span style=\"color: #008080; text-decoration-color: #008080; font-weight: bold\">1994.0</span>\n",
       "Average Rating: <span style=\"color: #008080; text-decoration-color: #008080; font-weight: bold\">4.17</span>\n",
       "Number of Pages: <span style=\"color: #008080; text-decoration-color: #008080; font-weight: bold\">368.0</span>\n",
       "\n",
       "</pre>\n"
      ],
      "text/plain": [
       "Tile: For the Sake of Argument\n",
       "Authors: Christopher Hitchens\n",
       "Description: Essays discuss international politics, modern conservatism, politicians, and literature\n",
       "Categories: Literary Collections\n",
       "Publishing Year: \u001b[1;36m1994.0\u001b[0m\n",
       "Average Rating: \u001b[1;36m4.17\u001b[0m\n",
       "Number of Pages: \u001b[1;36m368.0\u001b[0m\n",
       "\n"
      ]
     },
     "metadata": {},
     "output_type": "display_data"
    },
    {
     "data": {
      "text/html": [
       "<pre style=\"white-space:pre;overflow-x:auto;line-height:normal;font-family:Menlo,'DejaVu Sans Mono',consolas,'Courier New',monospace\">\n",
       "</pre>\n"
      ],
      "text/plain": [
       "\n"
      ]
     },
     "metadata": {},
     "output_type": "display_data"
    },
    {
     "data": {
      "text/html": [
       "<pre style=\"white-space:pre;overflow-x:auto;line-height:normal;font-family:Menlo,'DejaVu Sans Mono',consolas,'Courier New',monospace\">Tile: The World as Will and Representation\n",
       "Authors: Arthur Schopenhauer\n",
       "Description: The German philosopher explains his thoughts about intellectual perception and abstract representation\n",
       "and critically analyzes Kant's ideas and teachings. Bibliogs\n",
       "Categories: Philosophy\n",
       "Publishing Year: <span style=\"color: #008080; text-decoration-color: #008080; font-weight: bold\">1958.0</span>\n",
       "Average Rating: <span style=\"color: #008080; text-decoration-color: #008080; font-weight: bold\">4.18</span>\n",
       "Number of Pages: <span style=\"color: #008080; text-decoration-color: #008080; font-weight: bold\">534.0</span>\n",
       "\n",
       "</pre>\n"
      ],
      "text/plain": [
       "Tile: The World as Will and Representation\n",
       "Authors: Arthur Schopenhauer\n",
       "Description: The German philosopher explains his thoughts about intellectual perception and abstract representation\n",
       "and critically analyzes Kant's ideas and teachings. Bibliogs\n",
       "Categories: Philosophy\n",
       "Publishing Year: \u001b[1;36m1958.0\u001b[0m\n",
       "Average Rating: \u001b[1;36m4.18\u001b[0m\n",
       "Number of Pages: \u001b[1;36m534.0\u001b[0m\n",
       "\n"
      ]
     },
     "metadata": {},
     "output_type": "display_data"
    },
    {
     "data": {
      "text/html": [
       "<pre style=\"white-space:pre;overflow-x:auto;line-height:normal;font-family:Menlo,'DejaVu Sans Mono',consolas,'Courier New',monospace\">\n",
       "</pre>\n"
      ],
      "text/plain": [
       "\n"
      ]
     },
     "metadata": {},
     "output_type": "display_data"
    }
   ],
   "source": [
    "for match in best_matches:\n",
    "    print(match)\n",
    "    print()"
   ]
  },
  {
   "cell_type": "code",
   "execution_count": null,
   "metadata": {},
   "outputs": [],
   "source": []
  },
  {
   "cell_type": "markdown",
   "metadata": {},
   "source": [
    "## **Extra**"
   ]
  },
  {
   "cell_type": "code",
   "execution_count": 43,
   "metadata": {},
   "outputs": [
    {
     "name": "stderr",
     "output_type": "stream",
     "text": [
      " 17%|█▋        | 1163/6810 [00:38<03:07, 30.04it/s]\n"
     ]
    }
   ],
   "source": [
    "from tqdm import tqdm\n",
    "import numpy as np\n",
    "import requests\n",
    "from concurrent.futures import ThreadPoolExecutor, as_completed\n",
    "\n",
    "# Function to get embeddings asynchronously\n",
    "def get_embedding(representation, i):\n",
    "    res = requests.post('http://localhost:11434/api/embeddings',\n",
    "                        json={\n",
    "                            'model': 'mxbai-embed-large:latest',\n",
    "                            'prompt': representation\n",
    "                        })\n",
    "    embedding = res.json()['embedding']\n",
    "    return i, np.array(embedding)\n",
    "\n",
    "import faiss\n",
    "import requests\n",
    "import numpy as np\n",
    "from tqdm import tqdm\n",
    "\n",
    "dim = 1024\n",
    "\n",
    "X = np.zeros((len(df['textual_representation']), dim), dtype='float32')\n",
    "\n",
    "# Set up ThreadPoolExecutor for parallel requests\n",
    "with ThreadPoolExecutor(max_workers=10) as executor:\n",
    "    # Submit all tasks to the executor\n",
    "    futures = [executor.submit(get_embedding, representation, i) for i, representation in enumerate(df['textual_representation'])]\n",
    "\n",
    "    # Use tqdm to display progress as tasks complete\n",
    "    for future in tqdm(as_completed(futures), total=len(futures)):\n",
    "        i, embedding = future.result()  # Get result from future\n",
    "        X[i] = embedding\n",
    "\n",
    "# Assuming `index` is your vector index\n",
    "index.add(X)\n"
   ]
  },
  {
   "cell_type": "code",
   "execution_count": null,
   "metadata": {},
   "outputs": [],
   "source": []
  }
 ],
 "metadata": {
  "kernelspec": {
   "display_name": "BaseEnv",
   "language": "python",
   "name": "python3"
  },
  "language_info": {
   "codemirror_mode": {
    "name": "ipython",
    "version": 3
   },
   "file_extension": ".py",
   "mimetype": "text/x-python",
   "name": "python",
   "nbconvert_exporter": "python",
   "pygments_lexer": "ipython3",
   "version": "3.12.0"
  }
 },
 "nbformat": 4,
 "nbformat_minor": 2
}
